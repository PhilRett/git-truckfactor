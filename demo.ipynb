{
 "metadata": {
  "language_info": {
   "codemirror_mode": {
    "name": "ipython",
    "version": 3
   },
   "file_extension": ".py",
   "mimetype": "text/x-python",
   "name": "python",
   "nbconvert_exporter": "python",
   "pygments_lexer": "ipython3",
   "version": "3.9.1"
  },
  "orig_nbformat": 2,
  "kernelspec": {
   "name": "python391jvsc74a57bd0705a0fface73d7bf5dcb9415cd126aacd2ed3bc07552ba5f1989523a8d8937c8",
   "display_name": "Python 3.9.1 64-bit"
  },
  "metadata": {
   "interpreter": {
    "hash": "705a0fface73d7bf5dcb9415cd126aacd2ed3bc07552ba5f1989523a8d8937c8"
   }
  }
 },
 "nbformat": 4,
 "nbformat_minor": 2,
 "cells": [
  {
   "source": [
    "## Demo for the git-truckfactor package"
   ],
   "cell_type": "markdown",
   "metadata": {}
  },
  {
   "cell_type": "code",
   "execution_count": 1,
   "metadata": {},
   "outputs": [],
   "source": [
    "import os\n",
    "\n",
    "import git_truckfactor"
   ]
  },
  {
   "source": [
    "### Clone repositories locally"
   ],
   "cell_type": "markdown",
   "metadata": {}
  },
  {
   "cell_type": "code",
   "execution_count": 2,
   "metadata": {},
   "outputs": [],
   "source": [
    "#Assign a list of tuples with the repository name and the repository web URL\n",
    "list_repos = [(\"pandas\", \"https://github.com/pandas-dev/pandas.git\"), (\"matplotlib\", \"https://github.com/matplotlib/matplotlib\")]\n",
    "\n",
    "#Clone the repos locally and save path to the local repos\n",
    "local_path_repos = [git_truckfactor.clone_repository(repo[1], \"./github_repos/\" + repo[0]) for repo in list_repos]"
   ]
  },
  {
   "source": [
    "### Calculate truckfactor"
   ],
   "cell_type": "markdown",
   "metadata": {}
  },
  {
   "cell_type": "code",
   "execution_count": 3,
   "metadata": {},
   "outputs": [
    {
     "output_type": "execute_result",
     "data": {
      "text/plain": [
       "[{'Repository': 'pandas',\n",
       "  'Truckfactor_authors': ['jbrockmendel', 'Tom Augspurger'],\n",
       "  'Truckfactor': 2},\n",
       " {'Repository': 'matplotlib',\n",
       "  'Truckfactor_authors': ['Antony Lee'],\n",
       "  'Truckfactor': 1}]"
      ]
     },
     "metadata": {},
     "execution_count": 3
    }
   ],
   "source": [
    "cur_wd = os.getcwd()\n",
    "\n",
    "#timeframe for truckfactor by choosing start and end date\n",
    "start_date = \"2020-01-01\"\n",
    "end_date = \"2021-01-01\"\n",
    "\n",
    "#calculate the truckfactor and store values in a list\n",
    "truckfactor_results = [git_truckfactor.truck_factor_repo(path, cur_wd, start_date, end_date) for path in local_path_repos]\n",
    "truckfactor_results"
   ]
  }
 ]
}